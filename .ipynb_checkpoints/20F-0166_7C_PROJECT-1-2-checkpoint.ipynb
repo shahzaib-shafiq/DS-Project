{
 "cells": [
  {
   "cell_type": "markdown",
   "metadata": {},
   "source": [
    "# Loading the libraries"
   ]
  },
  {
   "cell_type": "code",
   "execution_count": 2,
   "metadata": {},
   "outputs": [],
   "source": [
    "import pandas as pd\n",
    "import numpy as np\n",
    "import matplotlib.pyplot as plt\n",
    "import seaborn as sns\n",
    "from sklearn.cluster import KMeans\n",
    "from sklearn.preprocessing import StandardScaler\n",
    "\n"
   ]
  },
  {
   "cell_type": "markdown",
   "metadata": {},
   "source": [
    "# Module 1: Data Acquisition and Preprocessing:"
   ]
  },
  {
   "cell_type": "markdown",
   "metadata": {},
   "source": [
    "## 1. Data Acquisition:"
   ]
  },
  {
   "cell_type": "markdown",
   "metadata": {},
   "source": [
    "### Download the provided historical sales data for the electronics section."
   ]
  },
  {
   "cell_type": "markdown",
   "metadata": {},
   "source": [
    "Data is already downloaded and provided as electornics.json. Let's load it into dataframe and print first five entries."
   ]
  },
  {
   "cell_type": "code",
   "execution_count": 3,
   "metadata": {},
   "outputs": [
    {
     "data": {
      "text/html": [
       "<div>\n",
       "<style scoped>\n",
       "    .dataframe tbody tr th:only-of-type {\n",
       "        vertical-align: middle;\n",
       "    }\n",
       "\n",
       "    .dataframe tbody tr th {\n",
       "        vertical-align: top;\n",
       "    }\n",
       "\n",
       "    .dataframe thead th {\n",
       "        text-align: right;\n",
       "    }\n",
       "</style>\n",
       "<table border=\"1\" class=\"dataframe\">\n",
       "  <thead>\n",
       "    <tr style=\"text-align: right;\">\n",
       "      <th></th>\n",
       "      <th>Customer_ID</th>\n",
       "      <th>Age</th>\n",
       "      <th>Gender</th>\n",
       "      <th>Income_Level</th>\n",
       "      <th>Address</th>\n",
       "      <th>Transaction_ID</th>\n",
       "      <th>Purchase_Date</th>\n",
       "      <th>Product_ID</th>\n",
       "      <th>Product_Category</th>\n",
       "      <th>Brand</th>\n",
       "      <th>Purchase_Amount</th>\n",
       "      <th>Average_Spending_Per_Purchase</th>\n",
       "      <th>Purchase_Frequency_Per_Month</th>\n",
       "      <th>Brand_Affinity_Score</th>\n",
       "      <th>Product_Category_Preferences</th>\n",
       "      <th>Month</th>\n",
       "      <th>Year</th>\n",
       "      <th>Season</th>\n",
       "    </tr>\n",
       "  </thead>\n",
       "  <tbody>\n",
       "    <tr>\n",
       "      <th>0</th>\n",
       "      <td>b81ee6c9-2ae4-48a7-b283-220eaa244f43</td>\n",
       "      <td>40</td>\n",
       "      <td>Female</td>\n",
       "      <td>Medium</td>\n",
       "      <td>43548 Murray Islands Suite 974\\nAmyberg, CT 13457</td>\n",
       "      <td>c6a6c712-e36b-406a-bfde-f53bdcf4744f</td>\n",
       "      <td>2022-04-26</td>\n",
       "      <td>d2f767d6-b01a-41a2-87f7-ec1d1186f50e</td>\n",
       "      <td>Clothing</td>\n",
       "      <td>Brand_C</td>\n",
       "      <td>193</td>\n",
       "      <td>59</td>\n",
       "      <td>2</td>\n",
       "      <td>2</td>\n",
       "      <td>Low</td>\n",
       "      <td>01</td>\n",
       "      <td>2010</td>\n",
       "      <td>Winter</td>\n",
       "    </tr>\n",
       "    <tr>\n",
       "      <th>1</th>\n",
       "      <td></td>\n",
       "      <td>25</td>\n",
       "      <td>Male</td>\n",
       "      <td>High</td>\n",
       "      <td></td>\n",
       "      <td>0b587838-1e4f-4231-b488-42bcd47c052a</td>\n",
       "      <td>2021-08-10</td>\n",
       "      <td>79eadc55-2de1-41cf-b1b6-40118c0bf8ec</td>\n",
       "      <td>Books</td>\n",
       "      <td>Brand_A</td>\n",
       "      <td>318</td>\n",
       "      <td>77</td>\n",
       "      <td>2</td>\n",
       "      <td>1</td>\n",
       "      <td>Low</td>\n",
       "      <td>08</td>\n",
       "      <td>1989</td>\n",
       "      <td>Fall</td>\n",
       "    </tr>\n",
       "    <tr>\n",
       "      <th>2</th>\n",
       "      <td>fdf79bcd-5908-4c90-8501-570ffb5b7648</td>\n",
       "      <td>57</td>\n",
       "      <td>Other</td>\n",
       "      <td>Low</td>\n",
       "      <td>79683 Kevin Hill Apt. 555\\nJohnshire, AR 39961</td>\n",
       "      <td>462925b1-a5bf-4996-bda2-59749de64eea</td>\n",
       "      <td>2021-12-09</td>\n",
       "      <td>9ab75a68-4329-4bd9-a259-2233c0f34c93</td>\n",
       "      <td>Electronics</td>\n",
       "      <td>Brand_A</td>\n",
       "      <td>197</td>\n",
       "      <td>100</td>\n",
       "      <td>9</td>\n",
       "      <td>1</td>\n",
       "      <td>Low</td>\n",
       "      <td></td>\n",
       "      <td>1995</td>\n",
       "      <td>Winter</td>\n",
       "    </tr>\n",
       "    <tr>\n",
       "      <th>3</th>\n",
       "      <td>878dccba-893a-48f9-8d34-6ed394fa3c9c</td>\n",
       "      <td>38</td>\n",
       "      <td>Female</td>\n",
       "      <td>Medium</td>\n",
       "      <td>02998 Hall Meadows Suite 809\\nNorth Robertvill...</td>\n",
       "      <td>3cfafa02-6b34-4d77-9e05-d223dfab64e8</td>\n",
       "      <td>2022-12-03</td>\n",
       "      <td>d518569b-ff79-494b-b2b6-7e2af39db86a</td>\n",
       "      <td>Clothing</td>\n",
       "      <td>Brand_C</td>\n",
       "      <td>262</td>\n",
       "      <td>97</td>\n",
       "      <td>3</td>\n",
       "      <td>4</td>\n",
       "      <td>Low</td>\n",
       "      <td>09</td>\n",
       "      <td>2012</td>\n",
       "      <td>Fall</td>\n",
       "    </tr>\n",
       "    <tr>\n",
       "      <th>4</th>\n",
       "      <td>0af0bd81-73cc-494e-aa5e-75c6d0b6d743</td>\n",
       "      <td>68</td>\n",
       "      <td>Other</td>\n",
       "      <td>Medium</td>\n",
       "      <td>21411 Timothy Ford Apt. 320\\nDavisborough, AR ...</td>\n",
       "      <td>0d8dc27a-0c8f-4a82-b57e-8bf54cee9759</td>\n",
       "      <td>2020-06-08</td>\n",
       "      <td>b6deac9d-2b7e-4a51-8273-a6534910b3bc</td>\n",
       "      <td>Books</td>\n",
       "      <td>Brand_B</td>\n",
       "      <td>429</td>\n",
       "      <td>85</td>\n",
       "      <td>7</td>\n",
       "      <td>2</td>\n",
       "      <td>High</td>\n",
       "      <td>01</td>\n",
       "      <td>2010</td>\n",
       "      <td>Summer</td>\n",
       "    </tr>\n",
       "  </tbody>\n",
       "</table>\n",
       "</div>"
      ],
      "text/plain": [
       "                            Customer_ID Age  Gender Income_Level  \\\n",
       "0  b81ee6c9-2ae4-48a7-b283-220eaa244f43  40  Female       Medium   \n",
       "1                                        25    Male         High   \n",
       "2  fdf79bcd-5908-4c90-8501-570ffb5b7648  57   Other          Low   \n",
       "3  878dccba-893a-48f9-8d34-6ed394fa3c9c  38  Female       Medium   \n",
       "4  0af0bd81-73cc-494e-aa5e-75c6d0b6d743  68   Other       Medium   \n",
       "\n",
       "                                             Address  \\\n",
       "0  43548 Murray Islands Suite 974\\nAmyberg, CT 13457   \n",
       "1                                                      \n",
       "2     79683 Kevin Hill Apt. 555\\nJohnshire, AR 39961   \n",
       "3  02998 Hall Meadows Suite 809\\nNorth Robertvill...   \n",
       "4  21411 Timothy Ford Apt. 320\\nDavisborough, AR ...   \n",
       "\n",
       "                         Transaction_ID Purchase_Date  \\\n",
       "0  c6a6c712-e36b-406a-bfde-f53bdcf4744f    2022-04-26   \n",
       "1  0b587838-1e4f-4231-b488-42bcd47c052a    2021-08-10   \n",
       "2  462925b1-a5bf-4996-bda2-59749de64eea    2021-12-09   \n",
       "3  3cfafa02-6b34-4d77-9e05-d223dfab64e8    2022-12-03   \n",
       "4  0d8dc27a-0c8f-4a82-b57e-8bf54cee9759    2020-06-08   \n",
       "\n",
       "                             Product_ID Product_Category    Brand  \\\n",
       "0  d2f767d6-b01a-41a2-87f7-ec1d1186f50e         Clothing  Brand_C   \n",
       "1  79eadc55-2de1-41cf-b1b6-40118c0bf8ec            Books  Brand_A   \n",
       "2  9ab75a68-4329-4bd9-a259-2233c0f34c93      Electronics  Brand_A   \n",
       "3  d518569b-ff79-494b-b2b6-7e2af39db86a         Clothing  Brand_C   \n",
       "4  b6deac9d-2b7e-4a51-8273-a6534910b3bc            Books  Brand_B   \n",
       "\n",
       "  Purchase_Amount Average_Spending_Per_Purchase Purchase_Frequency_Per_Month  \\\n",
       "0             193                            59                            2   \n",
       "1             318                            77                            2   \n",
       "2             197                           100                            9   \n",
       "3             262                            97                            3   \n",
       "4             429                            85                            7   \n",
       "\n",
       "  Brand_Affinity_Score Product_Category_Preferences Month  Year  Season  \n",
       "0                    2                          Low    01  2010  Winter  \n",
       "1                    1                          Low    08  1989    Fall  \n",
       "2                    1                          Low        1995  Winter  \n",
       "3                    4                          Low    09  2012    Fall  \n",
       "4                    2                         High    01  2010  Summer  "
      ]
     },
     "execution_count": 3,
     "metadata": {},
     "output_type": "execute_result"
    }
   ],
   "source": [
    "sales_data = pd.read_json('electronics.json')\n",
    "sales_data.head()"
   ]
  },
  {
   "cell_type": "markdown",
   "metadata": {},
   "source": [
    "### Ensure the data includes customer demographics, purchase history, product details, spending amounts, and dates of transactions"
   ]
  },
  {
   "cell_type": "markdown",
   "metadata": {},
   "source": [
    "Let's check in data if data includes the required columns."
   ]
  },
  {
   "cell_type": "code",
   "execution_count": 4,
   "metadata": {},
   "outputs": [
    {
     "data": {
      "text/plain": [
       "Index(['Customer_ID', 'Age', 'Gender', 'Income_Level', 'Address',\n",
       "       'Transaction_ID', 'Purchase_Date', 'Product_ID', 'Product_Category',\n",
       "       'Brand', 'Purchase_Amount', 'Average_Spending_Per_Purchase',\n",
       "       'Purchase_Frequency_Per_Month', 'Brand_Affinity_Score',\n",
       "       'Product_Category_Preferences', 'Month', 'Year', 'Season'],\n",
       "      dtype='object')"
      ]
     },
     "execution_count": 4,
     "metadata": {},
     "output_type": "execute_result"
    }
   ],
   "source": [
    "sales_data.columns"
   ]
  },
  {
   "cell_type": "markdown",
   "metadata": {},
   "source": [
    "As the columns showing that all required columns presents."
   ]
  },
  {
   "cell_type": "markdown",
   "metadata": {},
   "source": [
    "## 2. Data Cleaning:"
   ]
  },
  {
   "cell_type": "markdown",
   "metadata": {},
   "source": [
    "### Identify and handle missing values using appropriate techniques like mean/median imputation or dropping rows/columns with excessive missingness."
   ]
  },
  {
   "cell_type": "markdown",
   "metadata": {},
   "source": [
    "Let's first check the missing values present."
   ]
  },
  {
   "cell_type": "markdown",
   "metadata": {},
   "source": [
    "By seeing dataframe, we can see that missing values represented by \"\". So, we replace it with np.nan for further procession."
   ]
  },
  {
   "cell_type": "code",
   "execution_count": 5,
   "metadata": {},
   "outputs": [
    {
     "data": {
      "text/plain": [
       "Age\n",
       "          33\n",
       "38        28\n",
       "70        24\n",
       "20        24\n",
       "79        24\n",
       "          ..\n",
       "41         9\n",
       "65         9\n",
       "24         9\n",
       "Hidden     7\n",
       "55         7\n",
       "Name: count, Length: 65, dtype: int64"
      ]
     },
     "execution_count": 5,
     "metadata": {},
     "output_type": "execute_result"
    }
   ],
   "source": [
    "# pd.set_option('display.max_rows', None)\n",
    "sales_data['Age'].value_counts()\n",
    "# sales_data['Age'].head(50)"
   ]
  },
  {
   "cell_type": "markdown",
   "metadata": {},
   "source": [
    "By checking the data, I've found that there are some empty values and also some 'Hidden' values. Let's check there count."
   ]
  },
  {
   "cell_type": "code",
   "execution_count": 6,
   "metadata": {},
   "outputs": [
    {
     "data": {
      "text/plain": [
       "Customer_ID                      32\n",
       "Age                              33\n",
       "Gender                           33\n",
       "Income_Level                     41\n",
       "Address                          32\n",
       "Transaction_ID                   39\n",
       "Purchase_Date                    35\n",
       "Product_ID                       40\n",
       "Product_Category                 44\n",
       "Brand                            46\n",
       "Purchase_Amount                  33\n",
       "Average_Spending_Per_Purchase    26\n",
       "Purchase_Frequency_Per_Month     37\n",
       "Brand_Affinity_Score             47\n",
       "Product_Category_Preferences     31\n",
       "Month                            40\n",
       "Year                             39\n",
       "Season                           36\n",
       "dtype: int64"
      ]
     },
     "execution_count": 6,
     "metadata": {},
     "output_type": "execute_result"
    }
   ],
   "source": [
    "sales_data.replace('', np.nan).isna().sum()"
   ]
  },
  {
   "cell_type": "code",
   "execution_count": 7,
   "metadata": {},
   "outputs": [
    {
     "data": {
      "text/plain": [
       "Customer_ID                      12\n",
       "Age                               7\n",
       "Gender                           15\n",
       "Income_Level                      9\n",
       "Address                          15\n",
       "Transaction_ID                   11\n",
       "Purchase_Date                    13\n",
       "Product_ID                        9\n",
       "Product_Category                 16\n",
       "Brand                            12\n",
       "Purchase_Amount                  16\n",
       "Average_Spending_Per_Purchase    14\n",
       "Purchase_Frequency_Per_Month     18\n",
       "Brand_Affinity_Score             14\n",
       "Product_Category_Preferences     12\n",
       "Month                            13\n",
       "Year                             13\n",
       "Season                           12\n",
       "dtype: int64"
      ]
     },
     "execution_count": 7,
     "metadata": {},
     "output_type": "execute_result"
    }
   ],
   "source": [
    "sales_data.replace('Hidden', np.nan).isna().sum()"
   ]
  },
  {
   "cell_type": "markdown",
   "metadata": {},
   "source": [
    "Now let's replace these values with np.nan."
   ]
  },
  {
   "cell_type": "code",
   "execution_count": 8,
   "metadata": {},
   "outputs": [
    {
     "data": {
      "text/html": [
       "<div>\n",
       "<style scoped>\n",
       "    .dataframe tbody tr th:only-of-type {\n",
       "        vertical-align: middle;\n",
       "    }\n",
       "\n",
       "    .dataframe tbody tr th {\n",
       "        vertical-align: top;\n",
       "    }\n",
       "\n",
       "    .dataframe thead th {\n",
       "        text-align: right;\n",
       "    }\n",
       "</style>\n",
       "<table border=\"1\" class=\"dataframe\">\n",
       "  <thead>\n",
       "    <tr style=\"text-align: right;\">\n",
       "      <th></th>\n",
       "      <th>Customer_ID</th>\n",
       "      <th>Age</th>\n",
       "      <th>Gender</th>\n",
       "      <th>Income_Level</th>\n",
       "      <th>Address</th>\n",
       "      <th>Transaction_ID</th>\n",
       "      <th>Purchase_Date</th>\n",
       "      <th>Product_ID</th>\n",
       "      <th>Product_Category</th>\n",
       "      <th>Brand</th>\n",
       "      <th>Purchase_Amount</th>\n",
       "      <th>Average_Spending_Per_Purchase</th>\n",
       "      <th>Purchase_Frequency_Per_Month</th>\n",
       "      <th>Brand_Affinity_Score</th>\n",
       "      <th>Product_Category_Preferences</th>\n",
       "      <th>Month</th>\n",
       "      <th>Year</th>\n",
       "      <th>Season</th>\n",
       "    </tr>\n",
       "  </thead>\n",
       "  <tbody>\n",
       "    <tr>\n",
       "      <th>0</th>\n",
       "      <td>b81ee6c9-2ae4-48a7-b283-220eaa244f43</td>\n",
       "      <td>40</td>\n",
       "      <td>Female</td>\n",
       "      <td>Medium</td>\n",
       "      <td>43548 Murray Islands Suite 974\\nAmyberg, CT 13457</td>\n",
       "      <td>c6a6c712-e36b-406a-bfde-f53bdcf4744f</td>\n",
       "      <td>2022-04-26</td>\n",
       "      <td>d2f767d6-b01a-41a2-87f7-ec1d1186f50e</td>\n",
       "      <td>Clothing</td>\n",
       "      <td>Brand_C</td>\n",
       "      <td>193</td>\n",
       "      <td>59</td>\n",
       "      <td>2</td>\n",
       "      <td>2</td>\n",
       "      <td>Low</td>\n",
       "      <td>01</td>\n",
       "      <td>2010</td>\n",
       "      <td>Winter</td>\n",
       "    </tr>\n",
       "    <tr>\n",
       "      <th>1</th>\n",
       "      <td>NaN</td>\n",
       "      <td>25</td>\n",
       "      <td>Male</td>\n",
       "      <td>High</td>\n",
       "      <td>NaN</td>\n",
       "      <td>0b587838-1e4f-4231-b488-42bcd47c052a</td>\n",
       "      <td>2021-08-10</td>\n",
       "      <td>79eadc55-2de1-41cf-b1b6-40118c0bf8ec</td>\n",
       "      <td>Books</td>\n",
       "      <td>Brand_A</td>\n",
       "      <td>318</td>\n",
       "      <td>77</td>\n",
       "      <td>2</td>\n",
       "      <td>1</td>\n",
       "      <td>Low</td>\n",
       "      <td>08</td>\n",
       "      <td>1989</td>\n",
       "      <td>Fall</td>\n",
       "    </tr>\n",
       "    <tr>\n",
       "      <th>2</th>\n",
       "      <td>fdf79bcd-5908-4c90-8501-570ffb5b7648</td>\n",
       "      <td>57</td>\n",
       "      <td>Other</td>\n",
       "      <td>Low</td>\n",
       "      <td>79683 Kevin Hill Apt. 555\\nJohnshire, AR 39961</td>\n",
       "      <td>462925b1-a5bf-4996-bda2-59749de64eea</td>\n",
       "      <td>2021-12-09</td>\n",
       "      <td>9ab75a68-4329-4bd9-a259-2233c0f34c93</td>\n",
       "      <td>Electronics</td>\n",
       "      <td>Brand_A</td>\n",
       "      <td>197</td>\n",
       "      <td>100</td>\n",
       "      <td>9</td>\n",
       "      <td>1</td>\n",
       "      <td>Low</td>\n",
       "      <td>NaN</td>\n",
       "      <td>1995</td>\n",
       "      <td>Winter</td>\n",
       "    </tr>\n",
       "    <tr>\n",
       "      <th>3</th>\n",
       "      <td>878dccba-893a-48f9-8d34-6ed394fa3c9c</td>\n",
       "      <td>38</td>\n",
       "      <td>Female</td>\n",
       "      <td>Medium</td>\n",
       "      <td>02998 Hall Meadows Suite 809\\nNorth Robertvill...</td>\n",
       "      <td>3cfafa02-6b34-4d77-9e05-d223dfab64e8</td>\n",
       "      <td>2022-12-03</td>\n",
       "      <td>d518569b-ff79-494b-b2b6-7e2af39db86a</td>\n",
       "      <td>Clothing</td>\n",
       "      <td>Brand_C</td>\n",
       "      <td>262</td>\n",
       "      <td>97</td>\n",
       "      <td>3</td>\n",
       "      <td>4</td>\n",
       "      <td>Low</td>\n",
       "      <td>09</td>\n",
       "      <td>2012</td>\n",
       "      <td>Fall</td>\n",
       "    </tr>\n",
       "    <tr>\n",
       "      <th>4</th>\n",
       "      <td>0af0bd81-73cc-494e-aa5e-75c6d0b6d743</td>\n",
       "      <td>68</td>\n",
       "      <td>Other</td>\n",
       "      <td>Medium</td>\n",
       "      <td>21411 Timothy Ford Apt. 320\\nDavisborough, AR ...</td>\n",
       "      <td>0d8dc27a-0c8f-4a82-b57e-8bf54cee9759</td>\n",
       "      <td>2020-06-08</td>\n",
       "      <td>b6deac9d-2b7e-4a51-8273-a6534910b3bc</td>\n",
       "      <td>Books</td>\n",
       "      <td>Brand_B</td>\n",
       "      <td>429</td>\n",
       "      <td>85</td>\n",
       "      <td>7</td>\n",
       "      <td>2</td>\n",
       "      <td>High</td>\n",
       "      <td>01</td>\n",
       "      <td>2010</td>\n",
       "      <td>Summer</td>\n",
       "    </tr>\n",
       "  </tbody>\n",
       "</table>\n",
       "</div>"
      ],
      "text/plain": [
       "                            Customer_ID Age  Gender Income_Level  \\\n",
       "0  b81ee6c9-2ae4-48a7-b283-220eaa244f43  40  Female       Medium   \n",
       "1                                   NaN  25    Male         High   \n",
       "2  fdf79bcd-5908-4c90-8501-570ffb5b7648  57   Other          Low   \n",
       "3  878dccba-893a-48f9-8d34-6ed394fa3c9c  38  Female       Medium   \n",
       "4  0af0bd81-73cc-494e-aa5e-75c6d0b6d743  68   Other       Medium   \n",
       "\n",
       "                                             Address  \\\n",
       "0  43548 Murray Islands Suite 974\\nAmyberg, CT 13457   \n",
       "1                                                NaN   \n",
       "2     79683 Kevin Hill Apt. 555\\nJohnshire, AR 39961   \n",
       "3  02998 Hall Meadows Suite 809\\nNorth Robertvill...   \n",
       "4  21411 Timothy Ford Apt. 320\\nDavisborough, AR ...   \n",
       "\n",
       "                         Transaction_ID Purchase_Date  \\\n",
       "0  c6a6c712-e36b-406a-bfde-f53bdcf4744f    2022-04-26   \n",
       "1  0b587838-1e4f-4231-b488-42bcd47c052a    2021-08-10   \n",
       "2  462925b1-a5bf-4996-bda2-59749de64eea    2021-12-09   \n",
       "3  3cfafa02-6b34-4d77-9e05-d223dfab64e8    2022-12-03   \n",
       "4  0d8dc27a-0c8f-4a82-b57e-8bf54cee9759    2020-06-08   \n",
       "\n",
       "                             Product_ID Product_Category    Brand  \\\n",
       "0  d2f767d6-b01a-41a2-87f7-ec1d1186f50e         Clothing  Brand_C   \n",
       "1  79eadc55-2de1-41cf-b1b6-40118c0bf8ec            Books  Brand_A   \n",
       "2  9ab75a68-4329-4bd9-a259-2233c0f34c93      Electronics  Brand_A   \n",
       "3  d518569b-ff79-494b-b2b6-7e2af39db86a         Clothing  Brand_C   \n",
       "4  b6deac9d-2b7e-4a51-8273-a6534910b3bc            Books  Brand_B   \n",
       "\n",
       "  Purchase_Amount Average_Spending_Per_Purchase Purchase_Frequency_Per_Month  \\\n",
       "0             193                            59                            2   \n",
       "1             318                            77                            2   \n",
       "2             197                           100                            9   \n",
       "3             262                            97                            3   \n",
       "4             429                            85                            7   \n",
       "\n",
       "  Brand_Affinity_Score Product_Category_Preferences Month  Year  Season  \n",
       "0                    2                          Low    01  2010  Winter  \n",
       "1                    1                          Low    08  1989    Fall  \n",
       "2                    1                          Low   NaN  1995  Winter  \n",
       "3                    4                          Low    09  2012    Fall  \n",
       "4                    2                         High    01  2010  Summer  "
      ]
     },
     "execution_count": 8,
     "metadata": {},
     "output_type": "execute_result"
    }
   ],
   "source": [
    "sales_data.replace('', np.nan, inplace=True)\n",
    "sales_data.replace('Hidden', np.nan, inplace=True)\n",
    "sales_data.head()"
   ]
  },
  {
   "cell_type": "markdown",
   "metadata": {},
   "source": [
    "Now let's count the total missing value in each column."
   ]
  },
  {
   "cell_type": "code",
   "execution_count": 9,
   "metadata": {},
   "outputs": [
    {
     "data": {
      "text/plain": [
       "Customer_ID                      44\n",
       "Age                              40\n",
       "Gender                           48\n",
       "Income_Level                     50\n",
       "Address                          47\n",
       "Transaction_ID                   50\n",
       "Purchase_Date                    48\n",
       "Product_ID                       49\n",
       "Product_Category                 60\n",
       "Brand                            58\n",
       "Purchase_Amount                  49\n",
       "Average_Spending_Per_Purchase    40\n",
       "Purchase_Frequency_Per_Month     55\n",
       "Brand_Affinity_Score             61\n",
       "Product_Category_Preferences     43\n",
       "Month                            53\n",
       "Year                             52\n",
       "Season                           48\n",
       "dtype: int64"
      ]
     },
     "execution_count": 9,
     "metadata": {},
     "output_type": "execute_result"
    }
   ],
   "source": [
    "sales_data.isna().sum()\n",
    "# sales_data.info()"
   ]
  },
  {
   "cell_type": "markdown",
   "metadata": {},
   "source": [
    "Now let's fill these missing values."
   ]
  },
  {
   "cell_type": "code",
   "execution_count": 10,
   "metadata": {},
   "outputs": [
    {
     "data": {
      "text/html": [
       "<div>\n",
       "<style scoped>\n",
       "    .dataframe tbody tr th:only-of-type {\n",
       "        vertical-align: middle;\n",
       "    }\n",
       "\n",
       "    .dataframe tbody tr th {\n",
       "        vertical-align: top;\n",
       "    }\n",
       "\n",
       "    .dataframe thead th {\n",
       "        text-align: right;\n",
       "    }\n",
       "</style>\n",
       "<table border=\"1\" class=\"dataframe\">\n",
       "  <thead>\n",
       "    <tr style=\"text-align: right;\">\n",
       "      <th></th>\n",
       "      <th>index</th>\n",
       "      <th>Customer_ID</th>\n",
       "      <th>Age</th>\n",
       "      <th>Gender</th>\n",
       "      <th>Income_Level</th>\n",
       "      <th>Purchase_Date</th>\n",
       "      <th>Product_ID</th>\n",
       "      <th>Product_Category</th>\n",
       "      <th>Brand</th>\n",
       "      <th>Purchase_Amount</th>\n",
       "      <th>Average_Spending_Per_Purchase</th>\n",
       "      <th>Purchase_Frequency_Per_Month</th>\n",
       "      <th>Brand_Affinity_Score</th>\n",
       "      <th>Product_Category_Preferences</th>\n",
       "      <th>Month</th>\n",
       "      <th>Year</th>\n",
       "      <th>Season</th>\n",
       "    </tr>\n",
       "  </thead>\n",
       "  <tbody>\n",
       "    <tr>\n",
       "      <th>0</th>\n",
       "      <td>0</td>\n",
       "      <td>b81ee6c9-2ae4-48a7-b283-220eaa244f43</td>\n",
       "      <td>40</td>\n",
       "      <td>Female</td>\n",
       "      <td>Medium</td>\n",
       "      <td>2022-04-26</td>\n",
       "      <td>d2f767d6-b01a-41a2-87f7-ec1d1186f50e</td>\n",
       "      <td>Clothing</td>\n",
       "      <td>Brand_C</td>\n",
       "      <td>193</td>\n",
       "      <td>59</td>\n",
       "      <td>2</td>\n",
       "      <td>2</td>\n",
       "      <td>Low</td>\n",
       "      <td>01</td>\n",
       "      <td>2010</td>\n",
       "      <td>Winter</td>\n",
       "    </tr>\n",
       "    <tr>\n",
       "      <th>1</th>\n",
       "      <td>2</td>\n",
       "      <td>fdf79bcd-5908-4c90-8501-570ffb5b7648</td>\n",
       "      <td>57</td>\n",
       "      <td>Other</td>\n",
       "      <td>Low</td>\n",
       "      <td>2021-12-09</td>\n",
       "      <td>9ab75a68-4329-4bd9-a259-2233c0f34c93</td>\n",
       "      <td>Electronics</td>\n",
       "      <td>Brand_A</td>\n",
       "      <td>197</td>\n",
       "      <td>100</td>\n",
       "      <td>9</td>\n",
       "      <td>1</td>\n",
       "      <td>Low</td>\n",
       "      <td>04</td>\n",
       "      <td>1995</td>\n",
       "      <td>Winter</td>\n",
       "    </tr>\n",
       "    <tr>\n",
       "      <th>2</th>\n",
       "      <td>3</td>\n",
       "      <td>878dccba-893a-48f9-8d34-6ed394fa3c9c</td>\n",
       "      <td>38</td>\n",
       "      <td>Female</td>\n",
       "      <td>Medium</td>\n",
       "      <td>2022-12-03</td>\n",
       "      <td>d518569b-ff79-494b-b2b6-7e2af39db86a</td>\n",
       "      <td>Clothing</td>\n",
       "      <td>Brand_C</td>\n",
       "      <td>262</td>\n",
       "      <td>97</td>\n",
       "      <td>3</td>\n",
       "      <td>4</td>\n",
       "      <td>Low</td>\n",
       "      <td>09</td>\n",
       "      <td>2012</td>\n",
       "      <td>Fall</td>\n",
       "    </tr>\n",
       "    <tr>\n",
       "      <th>3</th>\n",
       "      <td>4</td>\n",
       "      <td>0af0bd81-73cc-494e-aa5e-75c6d0b6d743</td>\n",
       "      <td>68</td>\n",
       "      <td>Other</td>\n",
       "      <td>Medium</td>\n",
       "      <td>2020-06-08</td>\n",
       "      <td>b6deac9d-2b7e-4a51-8273-a6534910b3bc</td>\n",
       "      <td>Books</td>\n",
       "      <td>Brand_B</td>\n",
       "      <td>429</td>\n",
       "      <td>85</td>\n",
       "      <td>7</td>\n",
       "      <td>2</td>\n",
       "      <td>High</td>\n",
       "      <td>01</td>\n",
       "      <td>2010</td>\n",
       "      <td>Summer</td>\n",
       "    </tr>\n",
       "    <tr>\n",
       "      <th>4</th>\n",
       "      <td>5</td>\n",
       "      <td>5a4ac4ce-1e09-4ecb-805c-fb676f101385</td>\n",
       "      <td>26</td>\n",
       "      <td>Other</td>\n",
       "      <td>High</td>\n",
       "      <td>2022-12-03</td>\n",
       "      <td>03f82332-801c-45e2-84bf-af10a8f60248</td>\n",
       "      <td>Books</td>\n",
       "      <td>Brand_A</td>\n",
       "      <td>57</td>\n",
       "      <td>21</td>\n",
       "      <td>2</td>\n",
       "      <td>6</td>\n",
       "      <td>High</td>\n",
       "      <td>08</td>\n",
       "      <td>1989</td>\n",
       "      <td>Spring</td>\n",
       "    </tr>\n",
       "  </tbody>\n",
       "</table>\n",
       "</div>"
      ],
      "text/plain": [
       "   index                           Customer_ID Age  Gender Income_Level  \\\n",
       "0      0  b81ee6c9-2ae4-48a7-b283-220eaa244f43  40  Female       Medium   \n",
       "1      2  fdf79bcd-5908-4c90-8501-570ffb5b7648  57   Other          Low   \n",
       "2      3  878dccba-893a-48f9-8d34-6ed394fa3c9c  38  Female       Medium   \n",
       "3      4  0af0bd81-73cc-494e-aa5e-75c6d0b6d743  68   Other       Medium   \n",
       "4      5  5a4ac4ce-1e09-4ecb-805c-fb676f101385  26   Other         High   \n",
       "\n",
       "  Purchase_Date                            Product_ID Product_Category  \\\n",
       "0    2022-04-26  d2f767d6-b01a-41a2-87f7-ec1d1186f50e         Clothing   \n",
       "1    2021-12-09  9ab75a68-4329-4bd9-a259-2233c0f34c93      Electronics   \n",
       "2    2022-12-03  d518569b-ff79-494b-b2b6-7e2af39db86a         Clothing   \n",
       "3    2020-06-08  b6deac9d-2b7e-4a51-8273-a6534910b3bc            Books   \n",
       "4    2022-12-03  03f82332-801c-45e2-84bf-af10a8f60248            Books   \n",
       "\n",
       "     Brand Purchase_Amount Average_Spending_Per_Purchase  \\\n",
       "0  Brand_C             193                            59   \n",
       "1  Brand_A             197                           100   \n",
       "2  Brand_C             262                            97   \n",
       "3  Brand_B             429                            85   \n",
       "4  Brand_A              57                            21   \n",
       "\n",
       "  Purchase_Frequency_Per_Month Brand_Affinity_Score  \\\n",
       "0                            2                    2   \n",
       "1                            9                    1   \n",
       "2                            3                    4   \n",
       "3                            7                    2   \n",
       "4                            2                    6   \n",
       "\n",
       "  Product_Category_Preferences Month  Year  Season  \n",
       "0                          Low    01  2010  Winter  \n",
       "1                          Low    04  1995  Winter  \n",
       "2                          Low    09  2012    Fall  \n",
       "3                         High    01  2010  Summer  \n",
       "4                         High    08  1989  Spring  "
      ]
     },
     "execution_count": 10,
     "metadata": {},
     "output_type": "execute_result"
    }
   ],
   "source": [
    "sales_data.dropna(subset=['Customer_ID'], inplace=True) # Drop rows with missing values as this is the unique identifier for the data\n",
    "\n",
    "sales_data['Age'].fillna(sales_data['Age'].median(), inplace=True) # Replace Age missing values with median as age is numerical data\n",
    "\n",
    "sales_data['Gender'].fillna(sales_data['Gender'].mode()[0], inplace=True) # As Gender is categorical data, replacing its missing values with mode will be the best option\n",
    "sales_data['Income_Level'].fillna(sales_data['Income_Level'].mode()[0], inplace=True) # As Income Level is categorical, mode will be best for filling values\n",
    "\n",
    "sales_data.drop(\"Address\", axis=1, inplace=True) # As address is not much important for our analysis, dropping the column will be the best option\n",
    "sales_data.drop(\"Transaction_ID\", axis=1, inplace=True) # As Transaction ID is not much important for our analysis, dropping the column will be the best option\n",
    "\n",
    "sales_data['Purchase_Date'].fillna(method='ffill', inplace=True) # Fill Purchase Date with the forward fill\n",
    "\n",
    "sales_data.dropna(subset=['Product_ID'], inplace=True) # Drop rows with missing values as this is the unique identifier to check the product which sold\n",
    "\n",
    "sales_data['Product_Category'].fillna(sales_data['Product_Category'].mode()[0], inplace=True)\n",
    "sales_data['Brand'].fillna(sales_data['Brand'].mode()[0], inplace=True)\n",
    "\n",
    "sales_data['Purchase_Amount'].fillna(sales_data['Purchase_Amount'].median(), inplace=True)\n",
    "sales_data['Average_Spending_Per_Purchase'].fillna(sales_data['Average_Spending_Per_Purchase'].median(), inplace=True)\n",
    "sales_data['Purchase_Frequency_Per_Month'].fillna(sales_data['Purchase_Frequency_Per_Month'].median(), inplace=True)\n",
    "sales_data['Brand_Affinity_Score'].fillna(sales_data['Brand_Affinity_Score'].median(), inplace=True)\n",
    "\n",
    "sales_data['Product_Category_Preferences'].fillna(sales_data['Product_Category_Preferences'].mode()[0], inplace=True)\n",
    "sales_data['Month'].fillna(sales_data['Month'].mode()[0], inplace=True)\n",
    "sales_data['Year'].fillna(sales_data['Year'].mode()[0], inplace=True)\n",
    "sales_data['Season'].fillna(sales_data['Season'].mode()[0], inplace=True)\n",
    "\n",
    "sales_data.reset_index(inplace=True)\n",
    "sales_data.head()"
   ]
  },
  {
   "cell_type": "code",
   "execution_count": null,
   "metadata": {},
   "outputs": [],
   "source": []
  },
  {
   "cell_type": "code",
   "execution_count": 11,
   "metadata": {},
   "outputs": [
    {
     "data": {
      "text/plain": [
       "index                            0\n",
       "Customer_ID                      0\n",
       "Age                              0\n",
       "Gender                           0\n",
       "Income_Level                     0\n",
       "Purchase_Date                    0\n",
       "Product_ID                       0\n",
       "Product_Category                 0\n",
       "Brand                            0\n",
       "Purchase_Amount                  0\n",
       "Average_Spending_Per_Purchase    0\n",
       "Purchase_Frequency_Per_Month     0\n",
       "Brand_Affinity_Score             0\n",
       "Product_Category_Preferences     0\n",
       "Month                            0\n",
       "Year                             0\n",
       "Season                           0\n",
       "dtype: int64"
      ]
     },
     "execution_count": 11,
     "metadata": {},
     "output_type": "execute_result"
    }
   ],
   "source": [
    "sales_data.isna().sum()\n",
    "\n"
   ]
  },
  {
   "cell_type": "markdown",
   "metadata": {},
   "source": [
    "### Analyze outliers and determine whether to retain or remove them based on their impact on the analysis."
   ]
  },
  {
   "cell_type": "code",
   "execution_count": 12,
   "metadata": {},
   "outputs": [
    {
     "name": "stdout",
     "output_type": "stream",
     "text": [
      "<class 'pandas.core.frame.DataFrame'>\n",
      "RangeIndex: 910 entries, 0 to 909\n",
      "Data columns (total 17 columns):\n",
      " #   Column                         Non-Null Count  Dtype \n",
      "---  ------                         --------------  ----- \n",
      " 0   index                          910 non-null    int64 \n",
      " 1   Customer_ID                    910 non-null    object\n",
      " 2   Age                            910 non-null    object\n",
      " 3   Gender                         910 non-null    object\n",
      " 4   Income_Level                   910 non-null    object\n",
      " 5   Purchase_Date                  910 non-null    object\n",
      " 6   Product_ID                     910 non-null    object\n",
      " 7   Product_Category               910 non-null    object\n",
      " 8   Brand                          910 non-null    object\n",
      " 9   Purchase_Amount                910 non-null    object\n",
      " 10  Average_Spending_Per_Purchase  910 non-null    object\n",
      " 11  Purchase_Frequency_Per_Month   910 non-null    object\n",
      " 12  Brand_Affinity_Score           910 non-null    object\n",
      " 13  Product_Category_Preferences   910 non-null    object\n",
      " 14  Month                          910 non-null    object\n",
      " 15  Year                           910 non-null    object\n",
      " 16  Season                         910 non-null    object\n",
      "dtypes: int64(1), object(16)\n",
      "memory usage: 121.0+ KB\n"
     ]
    }
   ],
   "source": [
    "sales_data.info()"
   ]
  },
  {
   "cell_type": "code",
   "execution_count": 13,
   "metadata": {},
   "outputs": [],
   "source": [
    "# sales_data['Customer_ID'] = sales_data['Customer_ID'].astype('')\n",
    "sales_data['Age'] = sales_data['Age'].astype('int')\n",
    "# sales_data['Gender'] = sales_data['Gender'].astype('')\n",
    "# sales_data['Income_Level'] = sales_data['Income_Level'].astype('')\n",
    "# sales_data['Address'] = sales_data['Address'].astype('')\n",
    "# sales_data['Transaction_ID'] = sales_data['Transaction_ID'].astype('')\n",
    "sales_data['Purchase_Date'] = sales_data['Purchase_Date'].astype('datetime64[ns]')\n",
    "# sales_data['Product_ID'] = sales_data['Product_ID'].astype('')\n",
    "# sales_data['Product_Category'] = sales_data['Product_Category'].astype('')\n",
    "# sales_data['Brand'] = sales_data['Brand'].astype('')\n",
    "sales_data['Purchase_Amount'] = sales_data['Purchase_Amount'].astype('int')\n",
    "sales_data['Average_Spending_Per_Purchase'] = sales_data['Average_Spending_Per_Purchase'].astype('int')\n",
    "sales_data['Purchase_Frequency_Per_Month'] = sales_data['Purchase_Frequency_Per_Month'].astype('int')\n",
    "sales_data['Brand_Affinity_Score'] = sales_data['Brand_Affinity_Score'].astype('int')\n",
    "# sales_data['Product_Category_Preferences'] = sales_data['Product_Category_Preferences'].astype('')\n",
    "sales_data['Month'] = sales_data['Month'].astype('int')\n",
    "sales_data['Year'] = sales_data['Year'].astype('int')\n",
    "# sales_data['Season'] = sales_data['Season'].astype('')"
   ]
  },
  {
   "cell_type": "code",
   "execution_count": 14,
   "metadata": {},
   "outputs": [
    {
     "name": "stdout",
     "output_type": "stream",
     "text": [
      "Values between -504.5 and 1497.5: []\n",
      "Values between -11.5 and 112.5: []\n",
      "Values between -206.5 and 709.5: []\n",
      "Values between -37.0 and 139.0: []\n",
      "Values between -4.5 and 15.5: []\n",
      "Values between -4.5 and 15.5: []\n",
      "Values between -3.5 and 16.5: []\n",
      "Values between 1947.5 and 2047.5: []\n"
     ]
    }
   ],
   "source": [
    "description = sales_data.describe()\n",
    "IQR = description.loc['75%'] - description.loc['25%']\n",
    "integer_columns = sales_data.select_dtypes(include='int').columns\n",
    "for column in integer_columns:\n",
    "    lower_bound = description.loc['25%', column] - 1.5 * IQR[column]\n",
    "    upper_bound = description.loc['75%', column] + 1.5 * IQR[column]\n",
    "    filtered_values = sales_data[~((sales_data[column] >= lower_bound) & (sales_data[column] <= upper_bound))][column]\n",
    "    print(\"Values between {} and {}: {}\".format(lower_bound, upper_bound, filtered_values.tolist()))"
   ]
  },
  {
   "cell_type": "markdown",
   "metadata": {},
   "source": [
    "We can see that no outlier present here."
   ]
  },
  {
   "cell_type": "markdown",
   "metadata": {},
   "source": [
    "###  Address inconsistencies in data format and encoding."
   ]
  },
  {
   "cell_type": "markdown",
   "metadata": {},
   "source": [
    "Now check the inconsistencies in the data format and encoding."
   ]
  },
  {
   "cell_type": "code",
   "execution_count": 15,
   "metadata": {},
   "outputs": [
    {
     "name": "stdout",
     "output_type": "stream",
     "text": [
      "<class 'pandas.core.frame.DataFrame'>\n",
      "RangeIndex: 910 entries, 0 to 909\n",
      "Data columns (total 17 columns):\n",
      " #   Column                         Non-Null Count  Dtype         \n",
      "---  ------                         --------------  -----         \n",
      " 0   index                          910 non-null    int64         \n",
      " 1   Customer_ID                    910 non-null    object        \n",
      " 2   Age                            910 non-null    int32         \n",
      " 3   Gender                         910 non-null    object        \n",
      " 4   Income_Level                   910 non-null    object        \n",
      " 5   Purchase_Date                  910 non-null    datetime64[ns]\n",
      " 6   Product_ID                     910 non-null    object        \n",
      " 7   Product_Category               910 non-null    object        \n",
      " 8   Brand                          910 non-null    object        \n",
      " 9   Purchase_Amount                910 non-null    int32         \n",
      " 10  Average_Spending_Per_Purchase  910 non-null    int32         \n",
      " 11  Purchase_Frequency_Per_Month   910 non-null    int32         \n",
      " 12  Brand_Affinity_Score           910 non-null    int32         \n",
      " 13  Product_Category_Preferences   910 non-null    object        \n",
      " 14  Month                          910 non-null    int32         \n",
      " 15  Year                           910 non-null    int32         \n",
      " 16  Season                         910 non-null    object        \n",
      "dtypes: datetime64[ns](1), int32(7), int64(1), object(8)\n",
      "memory usage: 96.1+ KB\n"
     ]
    }
   ],
   "source": [
    "sales_data.info()"
   ]
  },
  {
   "cell_type": "markdown",
   "metadata": {},
   "source": [
    "As all is in objects, let's convert them to their respective format for proper precessing."
   ]
  },
  {
   "cell_type": "code",
   "execution_count": 16,
   "metadata": {},
   "outputs": [],
   "source": [
    "# sales_data['Customer_ID'] = sales_data['Customer_ID'].astype('')\n",
    "sales_data['Age'] = sales_data['Age'].astype('int')\n",
    "# sales_data['Gender'] = sales_data['Gender'].astype('')\n",
    "# sales_data['Income_Level'] = sales_data['Income_Level'].astype('')\n",
    "# sales_data['Address'] = sales_data['Address'].astype('')\n",
    "# sales_data['Transaction_ID'] = sales_data['Transaction_ID'].astype('')\n",
    "sales_data['Purchase_Date'] = sales_data['Purchase_Date'].astype('datetime64[ns]')\n",
    "# sales_data['Product_ID'] = sales_data['Product_ID'].astype('')\n",
    "# sales_data['Product_Category'] = sales_data['Product_Category'].astype('')\n",
    "# sales_data['Brand'] = sales_data['Brand'].astype('')\n",
    "sales_data['Purchase_Amount'] = sales_data['Purchase_Amount'].astype('int')\n",
    "sales_data['Average_Spending_Per_Purchase'] = sales_data['Average_Spending_Per_Purchase'].astype('int')\n",
    "sales_data['Purchase_Frequency_Per_Month'] = sales_data['Purchase_Frequency_Per_Month'].astype('int')\n",
    "sales_data['Brand_Affinity_Score'] = sales_data['Brand_Affinity_Score'].astype('int')\n",
    "# sales_data['Product_Category_Preferences'] = sales_data['Product_Category_Preferences'].astype('')\n",
    "sales_data['Month'] = sales_data['Month'].astype('int')\n",
    "sales_data['Year'] = sales_data['Year'].astype('int')\n",
    "# sales_data['Season'] = sales_data['Season'].astype('')"
   ]
  },
  {
   "cell_type": "markdown",
   "metadata": {},
   "source": [
    "## 3. Data Transformation:"
   ]
  },
  {
   "cell_type": "markdown",
   "metadata": {},
   "source": [
    "### Create new features that provide deeper insights into customer behavior, such as:\n",
    "* Average spending per purchase\n",
    "* Purchase frequency per month\n",
    "* Brand affinity score (based on product brand preferences)\n",
    "* Product category preferences (e.g., TVs, smartphones, laptops)"
   ]
  },
  {
   "cell_type": "code",
   "execution_count": 17,
   "metadata": {},
   "outputs": [
    {
     "data": {
      "text/plain": [
       "Index(['index', 'Customer_ID', 'Age', 'Gender', 'Income_Level',\n",
       "       'Purchase_Date', 'Product_ID', 'Product_Category', 'Brand',\n",
       "       'Purchase_Amount', 'Average_Spending_Per_Purchase',\n",
       "       'Purchase_Frequency_Per_Month', 'Brand_Affinity_Score',\n",
       "       'Product_Category_Preferences', 'Month', 'Year', 'Season'],\n",
       "      dtype='object')"
      ]
     },
     "execution_count": 17,
     "metadata": {},
     "output_type": "execute_result"
    }
   ],
   "source": [
    "sales_data.columns"
   ]
  },
  {
   "cell_type": "markdown",
   "metadata": {},
   "source": [
    "We can check that all of these are already present."
   ]
  },
  {
   "cell_type": "markdown",
   "metadata": {},
   "source": [
    "### Standardize or normalize numeric features to ensure they contribute equally to the clustering algorithms."
   ]
  },
  {
   "cell_type": "markdown",
   "metadata": {},
   "source": [
    "Now let's standerdize the numeric features."
   ]
  },
  {
   "cell_type": "code",
   "execution_count": 18,
   "metadata": {},
   "outputs": [],
   "source": [
    "integer_columns = sales_data.select_dtypes(include='int').columns\n",
    "for column in integer_columns:\n",
    "    sales_data[column] = (sales_data[column] - sales_data[column].mean()) / sales_data[column].std()"
   ]
  },
  {
   "cell_type": "code",
   "execution_count": 19,
   "metadata": {},
   "outputs": [
    {
     "data": {
      "text/html": [
       "<div>\n",
       "<style scoped>\n",
       "    .dataframe tbody tr th:only-of-type {\n",
       "        vertical-align: middle;\n",
       "    }\n",
       "\n",
       "    .dataframe tbody tr th {\n",
       "        vertical-align: top;\n",
       "    }\n",
       "\n",
       "    .dataframe thead th {\n",
       "        text-align: right;\n",
       "    }\n",
       "</style>\n",
       "<table border=\"1\" class=\"dataframe\">\n",
       "  <thead>\n",
       "    <tr style=\"text-align: right;\">\n",
       "      <th></th>\n",
       "      <th>index</th>\n",
       "      <th>Customer_ID</th>\n",
       "      <th>Age</th>\n",
       "      <th>Gender</th>\n",
       "      <th>Income_Level</th>\n",
       "      <th>Purchase_Date</th>\n",
       "      <th>Product_ID</th>\n",
       "      <th>Product_Category</th>\n",
       "      <th>Brand</th>\n",
       "      <th>Purchase_Amount</th>\n",
       "      <th>Average_Spending_Per_Purchase</th>\n",
       "      <th>Purchase_Frequency_Per_Month</th>\n",
       "      <th>Brand_Affinity_Score</th>\n",
       "      <th>Product_Category_Preferences</th>\n",
       "      <th>Month</th>\n",
       "      <th>Year</th>\n",
       "      <th>Season</th>\n",
       "    </tr>\n",
       "  </thead>\n",
       "  <tbody>\n",
       "    <tr>\n",
       "      <th>0</th>\n",
       "      <td>-1.734448</td>\n",
       "      <td>b81ee6c9-2ae4-48a7-b283-220eaa244f43</td>\n",
       "      <td>-0.549891</td>\n",
       "      <td>Female</td>\n",
       "      <td>Medium</td>\n",
       "      <td>2022-04-26</td>\n",
       "      <td>d2f767d6-b01a-41a2-87f7-ec1d1186f50e</td>\n",
       "      <td>Clothing</td>\n",
       "      <td>Brand_C</td>\n",
       "      <td>-0.407459</td>\n",
       "      <td>0.278761</td>\n",
       "      <td>-1.244885</td>\n",
       "      <td>-1.211692</td>\n",
       "      <td>Low</td>\n",
       "      <td>-1.584554</td>\n",
       "      <td>0.864915</td>\n",
       "      <td>Winter</td>\n",
       "    </tr>\n",
       "    <tr>\n",
       "      <th>1</th>\n",
       "      <td>-1.727492</td>\n",
       "      <td>fdf79bcd-5908-4c90-8501-570ffb5b7648</td>\n",
       "      <td>0.399318</td>\n",
       "      <td>Other</td>\n",
       "      <td>Low</td>\n",
       "      <td>2021-12-09</td>\n",
       "      <td>9ab75a68-4329-4bd9-a259-2233c0f34c93</td>\n",
       "      <td>Electronics</td>\n",
       "      <td>Brand_A</td>\n",
       "      <td>-0.378231</td>\n",
       "      <td>1.818217</td>\n",
       "      <td>1.303289</td>\n",
       "      <td>-1.573925</td>\n",
       "      <td>Low</td>\n",
       "      <td>-0.703170</td>\n",
       "      <td>-0.139688</td>\n",
       "      <td>Winter</td>\n",
       "    </tr>\n",
       "  </tbody>\n",
       "</table>\n",
       "</div>"
      ],
      "text/plain": [
       "      index                           Customer_ID       Age  Gender  \\\n",
       "0 -1.734448  b81ee6c9-2ae4-48a7-b283-220eaa244f43 -0.549891  Female   \n",
       "1 -1.727492  fdf79bcd-5908-4c90-8501-570ffb5b7648  0.399318   Other   \n",
       "\n",
       "  Income_Level Purchase_Date                            Product_ID  \\\n",
       "0       Medium    2022-04-26  d2f767d6-b01a-41a2-87f7-ec1d1186f50e   \n",
       "1          Low    2021-12-09  9ab75a68-4329-4bd9-a259-2233c0f34c93   \n",
       "\n",
       "  Product_Category    Brand  Purchase_Amount  Average_Spending_Per_Purchase  \\\n",
       "0         Clothing  Brand_C        -0.407459                       0.278761   \n",
       "1      Electronics  Brand_A        -0.378231                       1.818217   \n",
       "\n",
       "   Purchase_Frequency_Per_Month  Brand_Affinity_Score  \\\n",
       "0                     -1.244885             -1.211692   \n",
       "1                      1.303289             -1.573925   \n",
       "\n",
       "  Product_Category_Preferences     Month      Year  Season  \n",
       "0                          Low -1.584554  0.864915  Winter  \n",
       "1                          Low -0.703170 -0.139688  Winter  "
      ]
     },
     "execution_count": 19,
     "metadata": {},
     "output_type": "execute_result"
    }
   ],
   "source": [
    "sales_data.head(2)"
   ]
  },
  {
   "cell_type": "markdown",
   "metadata": {},
   "source": [
    "# Module 2: Exploratory Data Analysis(EDA):"
   ]
  },
  {
   "cell_type": "markdown",
   "metadata": {},
   "source": [
    "## 1. Univariate Analysis:"
   ]
  },
  {
   "cell_type": "markdown",
   "metadata": {},
   "source": [
    "### Analyze the distribution of key features like customer age, purchase amount, and purchase frequency using histograms, boxplots, and descriptive statistics."
   ]
  },
  {
   "cell_type": "markdown",
   "metadata": {},
   "source": [
    "Let's analyze the key features using histogram, boxplots and descriptive statistice."
   ]
  },
  {
   "cell_type": "code",
   "execution_count": 20,
   "metadata": {},
   "outputs": [
    {
     "name": "stdout",
     "output_type": "stream",
     "text": [
      "<class 'pandas.core.frame.DataFrame'>\n",
      "RangeIndex: 910 entries, 0 to 909\n",
      "Data columns (total 17 columns):\n",
      " #   Column                         Non-Null Count  Dtype         \n",
      "---  ------                         --------------  -----         \n",
      " 0   index                          910 non-null    float64       \n",
      " 1   Customer_ID                    910 non-null    object        \n",
      " 2   Age                            910 non-null    float64       \n",
      " 3   Gender                         910 non-null    object        \n",
      " 4   Income_Level                   910 non-null    object        \n",
      " 5   Purchase_Date                  910 non-null    datetime64[ns]\n",
      " 6   Product_ID                     910 non-null    object        \n",
      " 7   Product_Category               910 non-null    object        \n",
      " 8   Brand                          910 non-null    object        \n",
      " 9   Purchase_Amount                910 non-null    float64       \n",
      " 10  Average_Spending_Per_Purchase  910 non-null    float64       \n",
      " 11  Purchase_Frequency_Per_Month   910 non-null    float64       \n",
      " 12  Brand_Affinity_Score           910 non-null    float64       \n",
      " 13  Product_Category_Preferences   910 non-null    object        \n",
      " 14  Month                          910 non-null    float64       \n",
      " 15  Year                           910 non-null    float64       \n",
      " 16  Season                         910 non-null    object        \n",
      "dtypes: datetime64[ns](1), float64(8), object(8)\n",
      "memory usage: 121.0+ KB\n"
     ]
    }
   ],
   "source": [
    "sales_data.info()"
   ]
  },
  {
   "cell_type": "markdown",
   "metadata": {},
   "source": [
    "# Part 3 "
   ]
  },
  {
   "cell_type": "code",
   "execution_count": 21,
   "metadata": {},
   "outputs": [
    {
     "ename": "ValueError",
     "evalue": "could not convert string to float: 'Medium'",
     "output_type": "error",
     "traceback": [
      "\u001b[1;31m---------------------------------------------------------------------------\u001b[0m",
      "\u001b[1;31mValueError\u001b[0m                                Traceback (most recent call last)",
      "\u001b[1;32m~\\AppData\\Local\\Temp\\ipykernel_8488\\974316330.py\u001b[0m in \u001b[0;36m?\u001b[1;34m()\u001b[0m\n\u001b[0;32m     12\u001b[0m \u001b[1;33m\u001b[0m\u001b[0m\n\u001b[0;32m     13\u001b[0m \u001b[1;31m# Scaling the features\u001b[0m\u001b[1;33m\u001b[0m\u001b[1;33m\u001b[0m\u001b[0m\n\u001b[0;32m     14\u001b[0m \u001b[0mscaler\u001b[0m \u001b[1;33m=\u001b[0m \u001b[0mStandardScaler\u001b[0m\u001b[1;33m(\u001b[0m\u001b[1;33m)\u001b[0m\u001b[1;33m\u001b[0m\u001b[1;33m\u001b[0m\u001b[0m\n\u001b[0;32m     15\u001b[0m \u001b[1;33m\u001b[0m\u001b[0m\n\u001b[1;32m---> 16\u001b[1;33m \u001b[0mX\u001b[0m \u001b[1;33m=\u001b[0m \u001b[0mscaler\u001b[0m\u001b[1;33m.\u001b[0m\u001b[0mfit_transform\u001b[0m\u001b[1;33m(\u001b[0m\u001b[0msales_data\u001b[0m\u001b[1;33m[\u001b[0m\u001b[0mfeatures_for_clustering\u001b[0m\u001b[1;33m]\u001b[0m\u001b[1;33m)\u001b[0m\u001b[1;33m\u001b[0m\u001b[1;33m\u001b[0m\u001b[0m\n\u001b[0m\u001b[0;32m     17\u001b[0m \u001b[1;33m\u001b[0m\u001b[0m\n\u001b[0;32m     18\u001b[0m \u001b[1;31m# Using the elbow method to find the optimal number of clusters\u001b[0m\u001b[1;33m\u001b[0m\u001b[1;33m\u001b[0m\u001b[0m\n\u001b[0;32m     19\u001b[0m \u001b[0mwcss\u001b[0m \u001b[1;33m=\u001b[0m \u001b[1;33m[\u001b[0m\u001b[1;33m]\u001b[0m\u001b[1;33m\u001b[0m\u001b[1;33m\u001b[0m\u001b[0m\n",
      "\u001b[1;32mc:\\ProgramData\\anaconda3\\Lib\\site-packages\\sklearn\\utils\\_set_output.py\u001b[0m in \u001b[0;36m?\u001b[1;34m(self, X, *args, **kwargs)\u001b[0m\n\u001b[0;32m    138\u001b[0m     \u001b[1;33m@\u001b[0m\u001b[0mwraps\u001b[0m\u001b[1;33m(\u001b[0m\u001b[0mf\u001b[0m\u001b[1;33m)\u001b[0m\u001b[1;33m\u001b[0m\u001b[1;33m\u001b[0m\u001b[0m\n\u001b[0;32m    139\u001b[0m     \u001b[1;32mdef\u001b[0m \u001b[0mwrapped\u001b[0m\u001b[1;33m(\u001b[0m\u001b[0mself\u001b[0m\u001b[1;33m,\u001b[0m \u001b[0mX\u001b[0m\u001b[1;33m,\u001b[0m \u001b[1;33m*\u001b[0m\u001b[0margs\u001b[0m\u001b[1;33m,\u001b[0m \u001b[1;33m**\u001b[0m\u001b[0mkwargs\u001b[0m\u001b[1;33m)\u001b[0m\u001b[1;33m:\u001b[0m\u001b[1;33m\u001b[0m\u001b[1;33m\u001b[0m\u001b[0m\n\u001b[1;32m--> 140\u001b[1;33m         \u001b[0mdata_to_wrap\u001b[0m \u001b[1;33m=\u001b[0m \u001b[0mf\u001b[0m\u001b[1;33m(\u001b[0m\u001b[0mself\u001b[0m\u001b[1;33m,\u001b[0m \u001b[0mX\u001b[0m\u001b[1;33m,\u001b[0m \u001b[1;33m*\u001b[0m\u001b[0margs\u001b[0m\u001b[1;33m,\u001b[0m \u001b[1;33m**\u001b[0m\u001b[0mkwargs\u001b[0m\u001b[1;33m)\u001b[0m\u001b[1;33m\u001b[0m\u001b[1;33m\u001b[0m\u001b[0m\n\u001b[0m\u001b[0;32m    141\u001b[0m         \u001b[1;32mif\u001b[0m \u001b[0misinstance\u001b[0m\u001b[1;33m(\u001b[0m\u001b[0mdata_to_wrap\u001b[0m\u001b[1;33m,\u001b[0m \u001b[0mtuple\u001b[0m\u001b[1;33m)\u001b[0m\u001b[1;33m:\u001b[0m\u001b[1;33m\u001b[0m\u001b[1;33m\u001b[0m\u001b[0m\n\u001b[0;32m    142\u001b[0m             \u001b[1;31m# only wrap the first output for cross decomposition\u001b[0m\u001b[1;33m\u001b[0m\u001b[1;33m\u001b[0m\u001b[0m\n\u001b[0;32m    143\u001b[0m             return_tuple = (\n",
      "\u001b[1;32mc:\\ProgramData\\anaconda3\\Lib\\site-packages\\sklearn\\base.py\u001b[0m in \u001b[0;36m?\u001b[1;34m(self, X, y, **fit_params)\u001b[0m\n\u001b[0;32m    911\u001b[0m         \u001b[1;31m# non-optimized default implementation; override when a better\u001b[0m\u001b[1;33m\u001b[0m\u001b[1;33m\u001b[0m\u001b[0m\n\u001b[0;32m    912\u001b[0m         \u001b[1;31m# method is possible for a given clustering algorithm\u001b[0m\u001b[1;33m\u001b[0m\u001b[1;33m\u001b[0m\u001b[0m\n\u001b[0;32m    913\u001b[0m         \u001b[1;32mif\u001b[0m \u001b[0my\u001b[0m \u001b[1;32mis\u001b[0m \u001b[1;32mNone\u001b[0m\u001b[1;33m:\u001b[0m\u001b[1;33m\u001b[0m\u001b[1;33m\u001b[0m\u001b[0m\n\u001b[0;32m    914\u001b[0m             \u001b[1;31m# fit method of arity 1 (unsupervised transformation)\u001b[0m\u001b[1;33m\u001b[0m\u001b[1;33m\u001b[0m\u001b[0m\n\u001b[1;32m--> 915\u001b[1;33m             \u001b[1;32mreturn\u001b[0m \u001b[0mself\u001b[0m\u001b[1;33m.\u001b[0m\u001b[0mfit\u001b[0m\u001b[1;33m(\u001b[0m\u001b[0mX\u001b[0m\u001b[1;33m,\u001b[0m \u001b[1;33m**\u001b[0m\u001b[0mfit_params\u001b[0m\u001b[1;33m)\u001b[0m\u001b[1;33m.\u001b[0m\u001b[0mtransform\u001b[0m\u001b[1;33m(\u001b[0m\u001b[0mX\u001b[0m\u001b[1;33m)\u001b[0m\u001b[1;33m\u001b[0m\u001b[1;33m\u001b[0m\u001b[0m\n\u001b[0m\u001b[0;32m    916\u001b[0m         \u001b[1;32melse\u001b[0m\u001b[1;33m:\u001b[0m\u001b[1;33m\u001b[0m\u001b[1;33m\u001b[0m\u001b[0m\n\u001b[0;32m    917\u001b[0m             \u001b[1;31m# fit method of arity 2 (supervised transformation)\u001b[0m\u001b[1;33m\u001b[0m\u001b[1;33m\u001b[0m\u001b[0m\n\u001b[0;32m    918\u001b[0m             \u001b[1;32mreturn\u001b[0m \u001b[0mself\u001b[0m\u001b[1;33m.\u001b[0m\u001b[0mfit\u001b[0m\u001b[1;33m(\u001b[0m\u001b[0mX\u001b[0m\u001b[1;33m,\u001b[0m \u001b[0my\u001b[0m\u001b[1;33m,\u001b[0m \u001b[1;33m**\u001b[0m\u001b[0mfit_params\u001b[0m\u001b[1;33m)\u001b[0m\u001b[1;33m.\u001b[0m\u001b[0mtransform\u001b[0m\u001b[1;33m(\u001b[0m\u001b[0mX\u001b[0m\u001b[1;33m)\u001b[0m\u001b[1;33m\u001b[0m\u001b[1;33m\u001b[0m\u001b[0m\n",
      "\u001b[1;32mc:\\ProgramData\\anaconda3\\Lib\\site-packages\\sklearn\\preprocessing\\_data.py\u001b[0m in \u001b[0;36m?\u001b[1;34m(self, X, y, sample_weight)\u001b[0m\n\u001b[0;32m    833\u001b[0m             \u001b[0mFitted\u001b[0m \u001b[0mscaler\u001b[0m\u001b[1;33m.\u001b[0m\u001b[1;33m\u001b[0m\u001b[1;33m\u001b[0m\u001b[0m\n\u001b[0;32m    834\u001b[0m         \"\"\"\n\u001b[0;32m    835\u001b[0m         \u001b[1;31m# Reset internal state before fitting\u001b[0m\u001b[1;33m\u001b[0m\u001b[1;33m\u001b[0m\u001b[0m\n\u001b[0;32m    836\u001b[0m         \u001b[0mself\u001b[0m\u001b[1;33m.\u001b[0m\u001b[0m_reset\u001b[0m\u001b[1;33m(\u001b[0m\u001b[1;33m)\u001b[0m\u001b[1;33m\u001b[0m\u001b[1;33m\u001b[0m\u001b[0m\n\u001b[1;32m--> 837\u001b[1;33m         \u001b[1;32mreturn\u001b[0m \u001b[0mself\u001b[0m\u001b[1;33m.\u001b[0m\u001b[0mpartial_fit\u001b[0m\u001b[1;33m(\u001b[0m\u001b[0mX\u001b[0m\u001b[1;33m,\u001b[0m \u001b[0my\u001b[0m\u001b[1;33m,\u001b[0m \u001b[0msample_weight\u001b[0m\u001b[1;33m)\u001b[0m\u001b[1;33m\u001b[0m\u001b[1;33m\u001b[0m\u001b[0m\n\u001b[0m",
      "\u001b[1;32mc:\\ProgramData\\anaconda3\\Lib\\site-packages\\sklearn\\base.py\u001b[0m in \u001b[0;36m?\u001b[1;34m(estimator, *args, **kwargs)\u001b[0m\n\u001b[0;32m   1147\u001b[0m                 skip_parameter_validation=(\n\u001b[0;32m   1148\u001b[0m                     \u001b[0mprefer_skip_nested_validation\u001b[0m \u001b[1;32mor\u001b[0m \u001b[0mglobal_skip_validation\u001b[0m\u001b[1;33m\u001b[0m\u001b[1;33m\u001b[0m\u001b[0m\n\u001b[0;32m   1149\u001b[0m                 )\n\u001b[0;32m   1150\u001b[0m             ):\n\u001b[1;32m-> 1151\u001b[1;33m                 \u001b[1;32mreturn\u001b[0m \u001b[0mfit_method\u001b[0m\u001b[1;33m(\u001b[0m\u001b[0mestimator\u001b[0m\u001b[1;33m,\u001b[0m \u001b[1;33m*\u001b[0m\u001b[0margs\u001b[0m\u001b[1;33m,\u001b[0m \u001b[1;33m**\u001b[0m\u001b[0mkwargs\u001b[0m\u001b[1;33m)\u001b[0m\u001b[1;33m\u001b[0m\u001b[1;33m\u001b[0m\u001b[0m\n\u001b[0m",
      "\u001b[1;32mc:\\ProgramData\\anaconda3\\Lib\\site-packages\\sklearn\\preprocessing\\_data.py\u001b[0m in \u001b[0;36m?\u001b[1;34m(self, X, y, sample_weight)\u001b[0m\n\u001b[0;32m    869\u001b[0m         \u001b[0mself\u001b[0m \u001b[1;33m:\u001b[0m \u001b[0mobject\u001b[0m\u001b[1;33m\u001b[0m\u001b[1;33m\u001b[0m\u001b[0m\n\u001b[0;32m    870\u001b[0m             \u001b[0mFitted\u001b[0m \u001b[0mscaler\u001b[0m\u001b[1;33m.\u001b[0m\u001b[1;33m\u001b[0m\u001b[1;33m\u001b[0m\u001b[0m\n\u001b[0;32m    871\u001b[0m         \"\"\"\n\u001b[0;32m    872\u001b[0m         \u001b[0mfirst_call\u001b[0m \u001b[1;33m=\u001b[0m \u001b[1;32mnot\u001b[0m \u001b[0mhasattr\u001b[0m\u001b[1;33m(\u001b[0m\u001b[0mself\u001b[0m\u001b[1;33m,\u001b[0m \u001b[1;34m\"n_samples_seen_\"\u001b[0m\u001b[1;33m)\u001b[0m\u001b[1;33m\u001b[0m\u001b[1;33m\u001b[0m\u001b[0m\n\u001b[1;32m--> 873\u001b[1;33m         X = self._validate_data(\n\u001b[0m\u001b[0;32m    874\u001b[0m             \u001b[0mX\u001b[0m\u001b[1;33m,\u001b[0m\u001b[1;33m\u001b[0m\u001b[1;33m\u001b[0m\u001b[0m\n\u001b[0;32m    875\u001b[0m             \u001b[0maccept_sparse\u001b[0m\u001b[1;33m=\u001b[0m\u001b[1;33m(\u001b[0m\u001b[1;34m\"csr\"\u001b[0m\u001b[1;33m,\u001b[0m \u001b[1;34m\"csc\"\u001b[0m\u001b[1;33m)\u001b[0m\u001b[1;33m,\u001b[0m\u001b[1;33m\u001b[0m\u001b[1;33m\u001b[0m\u001b[0m\n\u001b[0;32m    876\u001b[0m             \u001b[0mdtype\u001b[0m\u001b[1;33m=\u001b[0m\u001b[0mFLOAT_DTYPES\u001b[0m\u001b[1;33m,\u001b[0m\u001b[1;33m\u001b[0m\u001b[1;33m\u001b[0m\u001b[0m\n",
      "\u001b[1;32mc:\\ProgramData\\anaconda3\\Lib\\site-packages\\sklearn\\base.py\u001b[0m in \u001b[0;36m?\u001b[1;34m(self, X, y, reset, validate_separately, cast_to_ndarray, **check_params)\u001b[0m\n\u001b[0;32m    600\u001b[0m                 \u001b[0mout\u001b[0m \u001b[1;33m=\u001b[0m \u001b[0my\u001b[0m\u001b[1;33m\u001b[0m\u001b[1;33m\u001b[0m\u001b[0m\n\u001b[0;32m    601\u001b[0m             \u001b[1;32melse\u001b[0m\u001b[1;33m:\u001b[0m\u001b[1;33m\u001b[0m\u001b[1;33m\u001b[0m\u001b[0m\n\u001b[0;32m    602\u001b[0m                 \u001b[0mout\u001b[0m \u001b[1;33m=\u001b[0m \u001b[0mX\u001b[0m\u001b[1;33m,\u001b[0m \u001b[0my\u001b[0m\u001b[1;33m\u001b[0m\u001b[1;33m\u001b[0m\u001b[0m\n\u001b[0;32m    603\u001b[0m         \u001b[1;32melif\u001b[0m \u001b[1;32mnot\u001b[0m \u001b[0mno_val_X\u001b[0m \u001b[1;32mand\u001b[0m \u001b[0mno_val_y\u001b[0m\u001b[1;33m:\u001b[0m\u001b[1;33m\u001b[0m\u001b[1;33m\u001b[0m\u001b[0m\n\u001b[1;32m--> 604\u001b[1;33m             \u001b[0mout\u001b[0m \u001b[1;33m=\u001b[0m \u001b[0mcheck_array\u001b[0m\u001b[1;33m(\u001b[0m\u001b[0mX\u001b[0m\u001b[1;33m,\u001b[0m \u001b[0minput_name\u001b[0m\u001b[1;33m=\u001b[0m\u001b[1;34m\"X\"\u001b[0m\u001b[1;33m,\u001b[0m \u001b[1;33m**\u001b[0m\u001b[0mcheck_params\u001b[0m\u001b[1;33m)\u001b[0m\u001b[1;33m\u001b[0m\u001b[1;33m\u001b[0m\u001b[0m\n\u001b[0m\u001b[0;32m    605\u001b[0m         \u001b[1;32melif\u001b[0m \u001b[0mno_val_X\u001b[0m \u001b[1;32mand\u001b[0m \u001b[1;32mnot\u001b[0m \u001b[0mno_val_y\u001b[0m\u001b[1;33m:\u001b[0m\u001b[1;33m\u001b[0m\u001b[1;33m\u001b[0m\u001b[0m\n\u001b[0;32m    606\u001b[0m             \u001b[0mout\u001b[0m \u001b[1;33m=\u001b[0m \u001b[0m_check_y\u001b[0m\u001b[1;33m(\u001b[0m\u001b[0my\u001b[0m\u001b[1;33m,\u001b[0m \u001b[1;33m**\u001b[0m\u001b[0mcheck_params\u001b[0m\u001b[1;33m)\u001b[0m\u001b[1;33m\u001b[0m\u001b[1;33m\u001b[0m\u001b[0m\n\u001b[0;32m    607\u001b[0m         \u001b[1;32melse\u001b[0m\u001b[1;33m:\u001b[0m\u001b[1;33m\u001b[0m\u001b[1;33m\u001b[0m\u001b[0m\n",
      "\u001b[1;32mc:\\ProgramData\\anaconda3\\Lib\\site-packages\\sklearn\\utils\\validation.py\u001b[0m in \u001b[0;36m?\u001b[1;34m(array, accept_sparse, accept_large_sparse, dtype, order, copy, force_all_finite, ensure_2d, allow_nd, ensure_min_samples, ensure_min_features, estimator, input_name)\u001b[0m\n\u001b[0;32m    914\u001b[0m                         )\n\u001b[0;32m    915\u001b[0m                     \u001b[0marray\u001b[0m \u001b[1;33m=\u001b[0m \u001b[0mxp\u001b[0m\u001b[1;33m.\u001b[0m\u001b[0mastype\u001b[0m\u001b[1;33m(\u001b[0m\u001b[0marray\u001b[0m\u001b[1;33m,\u001b[0m \u001b[0mdtype\u001b[0m\u001b[1;33m,\u001b[0m \u001b[0mcopy\u001b[0m\u001b[1;33m=\u001b[0m\u001b[1;32mFalse\u001b[0m\u001b[1;33m)\u001b[0m\u001b[1;33m\u001b[0m\u001b[1;33m\u001b[0m\u001b[0m\n\u001b[0;32m    916\u001b[0m                 \u001b[1;32melse\u001b[0m\u001b[1;33m:\u001b[0m\u001b[1;33m\u001b[0m\u001b[1;33m\u001b[0m\u001b[0m\n\u001b[0;32m    917\u001b[0m                     \u001b[0marray\u001b[0m \u001b[1;33m=\u001b[0m \u001b[0m_asarray_with_order\u001b[0m\u001b[1;33m(\u001b[0m\u001b[0marray\u001b[0m\u001b[1;33m,\u001b[0m \u001b[0morder\u001b[0m\u001b[1;33m=\u001b[0m\u001b[0morder\u001b[0m\u001b[1;33m,\u001b[0m \u001b[0mdtype\u001b[0m\u001b[1;33m=\u001b[0m\u001b[0mdtype\u001b[0m\u001b[1;33m,\u001b[0m \u001b[0mxp\u001b[0m\u001b[1;33m=\u001b[0m\u001b[0mxp\u001b[0m\u001b[1;33m)\u001b[0m\u001b[1;33m\u001b[0m\u001b[1;33m\u001b[0m\u001b[0m\n\u001b[1;32m--> 918\u001b[1;33m             \u001b[1;32mexcept\u001b[0m \u001b[0mComplexWarning\u001b[0m \u001b[1;32mas\u001b[0m \u001b[0mcomplex_warning\u001b[0m\u001b[1;33m:\u001b[0m\u001b[1;33m\u001b[0m\u001b[1;33m\u001b[0m\u001b[0m\n\u001b[0m\u001b[0;32m    919\u001b[0m                 raise ValueError(\n\u001b[0;32m    920\u001b[0m                     \u001b[1;34m\"Complex data not supported\\n{}\\n\"\u001b[0m\u001b[1;33m.\u001b[0m\u001b[0mformat\u001b[0m\u001b[1;33m(\u001b[0m\u001b[0marray\u001b[0m\u001b[1;33m)\u001b[0m\u001b[1;33m\u001b[0m\u001b[1;33m\u001b[0m\u001b[0m\n\u001b[0;32m    921\u001b[0m                 ) from complex_warning\n",
      "\u001b[1;32mc:\\ProgramData\\anaconda3\\Lib\\site-packages\\sklearn\\utils\\_array_api.py\u001b[0m in \u001b[0;36m?\u001b[1;34m(array, dtype, order, copy, xp)\u001b[0m\n\u001b[0;32m    376\u001b[0m         \u001b[1;31m# Use NumPy API to support order\u001b[0m\u001b[1;33m\u001b[0m\u001b[1;33m\u001b[0m\u001b[0m\n\u001b[0;32m    377\u001b[0m         \u001b[1;32mif\u001b[0m \u001b[0mcopy\u001b[0m \u001b[1;32mis\u001b[0m \u001b[1;32mTrue\u001b[0m\u001b[1;33m:\u001b[0m\u001b[1;33m\u001b[0m\u001b[1;33m\u001b[0m\u001b[0m\n\u001b[0;32m    378\u001b[0m             \u001b[0marray\u001b[0m \u001b[1;33m=\u001b[0m \u001b[0mnumpy\u001b[0m\u001b[1;33m.\u001b[0m\u001b[0marray\u001b[0m\u001b[1;33m(\u001b[0m\u001b[0marray\u001b[0m\u001b[1;33m,\u001b[0m \u001b[0morder\u001b[0m\u001b[1;33m=\u001b[0m\u001b[0morder\u001b[0m\u001b[1;33m,\u001b[0m \u001b[0mdtype\u001b[0m\u001b[1;33m=\u001b[0m\u001b[0mdtype\u001b[0m\u001b[1;33m)\u001b[0m\u001b[1;33m\u001b[0m\u001b[1;33m\u001b[0m\u001b[0m\n\u001b[0;32m    379\u001b[0m         \u001b[1;32melse\u001b[0m\u001b[1;33m:\u001b[0m\u001b[1;33m\u001b[0m\u001b[1;33m\u001b[0m\u001b[0m\n\u001b[1;32m--> 380\u001b[1;33m             \u001b[0marray\u001b[0m \u001b[1;33m=\u001b[0m \u001b[0mnumpy\u001b[0m\u001b[1;33m.\u001b[0m\u001b[0masarray\u001b[0m\u001b[1;33m(\u001b[0m\u001b[0marray\u001b[0m\u001b[1;33m,\u001b[0m \u001b[0morder\u001b[0m\u001b[1;33m=\u001b[0m\u001b[0morder\u001b[0m\u001b[1;33m,\u001b[0m \u001b[0mdtype\u001b[0m\u001b[1;33m=\u001b[0m\u001b[0mdtype\u001b[0m\u001b[1;33m)\u001b[0m\u001b[1;33m\u001b[0m\u001b[1;33m\u001b[0m\u001b[0m\n\u001b[0m\u001b[0;32m    381\u001b[0m \u001b[1;33m\u001b[0m\u001b[0m\n\u001b[0;32m    382\u001b[0m         \u001b[1;31m# At this point array is a NumPy ndarray. We convert it to an array\u001b[0m\u001b[1;33m\u001b[0m\u001b[1;33m\u001b[0m\u001b[0m\n\u001b[0;32m    383\u001b[0m         \u001b[1;31m# container that is consistent with the input's namespace.\u001b[0m\u001b[1;33m\u001b[0m\u001b[1;33m\u001b[0m\u001b[0m\n",
      "\u001b[1;32mc:\\ProgramData\\anaconda3\\Lib\\site-packages\\pandas\\core\\generic.py\u001b[0m in \u001b[0;36m?\u001b[1;34m(self, dtype)\u001b[0m\n\u001b[0;32m   1996\u001b[0m     \u001b[1;32mdef\u001b[0m \u001b[0m__array__\u001b[0m\u001b[1;33m(\u001b[0m\u001b[0mself\u001b[0m\u001b[1;33m,\u001b[0m \u001b[0mdtype\u001b[0m\u001b[1;33m:\u001b[0m \u001b[0mnpt\u001b[0m\u001b[1;33m.\u001b[0m\u001b[0mDTypeLike\u001b[0m \u001b[1;33m|\u001b[0m \u001b[1;32mNone\u001b[0m \u001b[1;33m=\u001b[0m \u001b[1;32mNone\u001b[0m\u001b[1;33m)\u001b[0m \u001b[1;33m->\u001b[0m \u001b[0mnp\u001b[0m\u001b[1;33m.\u001b[0m\u001b[0mndarray\u001b[0m\u001b[1;33m:\u001b[0m\u001b[1;33m\u001b[0m\u001b[1;33m\u001b[0m\u001b[0m\n\u001b[0;32m   1997\u001b[0m         \u001b[0mvalues\u001b[0m \u001b[1;33m=\u001b[0m \u001b[0mself\u001b[0m\u001b[1;33m.\u001b[0m\u001b[0m_values\u001b[0m\u001b[1;33m\u001b[0m\u001b[1;33m\u001b[0m\u001b[0m\n\u001b[1;32m-> 1998\u001b[1;33m         \u001b[0marr\u001b[0m \u001b[1;33m=\u001b[0m \u001b[0mnp\u001b[0m\u001b[1;33m.\u001b[0m\u001b[0masarray\u001b[0m\u001b[1;33m(\u001b[0m\u001b[0mvalues\u001b[0m\u001b[1;33m,\u001b[0m \u001b[0mdtype\u001b[0m\u001b[1;33m=\u001b[0m\u001b[0mdtype\u001b[0m\u001b[1;33m)\u001b[0m\u001b[1;33m\u001b[0m\u001b[1;33m\u001b[0m\u001b[0m\n\u001b[0m\u001b[0;32m   1999\u001b[0m         if (\n\u001b[0;32m   2000\u001b[0m             \u001b[0mastype_is_view\u001b[0m\u001b[1;33m(\u001b[0m\u001b[0mvalues\u001b[0m\u001b[1;33m.\u001b[0m\u001b[0mdtype\u001b[0m\u001b[1;33m,\u001b[0m \u001b[0marr\u001b[0m\u001b[1;33m.\u001b[0m\u001b[0mdtype\u001b[0m\u001b[1;33m)\u001b[0m\u001b[1;33m\u001b[0m\u001b[1;33m\u001b[0m\u001b[0m\n\u001b[0;32m   2001\u001b[0m             \u001b[1;32mand\u001b[0m \u001b[0musing_copy_on_write\u001b[0m\u001b[1;33m(\u001b[0m\u001b[1;33m)\u001b[0m\u001b[1;33m\u001b[0m\u001b[1;33m\u001b[0m\u001b[0m\n",
      "\u001b[1;31mValueError\u001b[0m: could not convert string to float: 'Medium'"
     ]
    }
   ],
   "source": [
    "# import pandas as pd\n",
    "# import numpy as np\n",
    "# import matplotlib.pyplot as plt\n",
    "# import seaborn as sns\n",
    "# from sklearn.cluster import KMeans\n",
    "# from sklearn.preprocessing import StandardScaler\n",
    "\n",
    "\n",
    "# Selecting features for clustering\n",
    "features_for_clustering = ['Age', 'Income_Level', 'Purchase_Amount', 'Brand_Affinity_Score']\n",
    "\n",
    "\n",
    "# Scaling the features\n",
    "scaler = StandardScaler()\n",
    "\n",
    "X = scaler.fit_transform(sales_data[features_for_clustering])\n",
    "\n",
    "# Using the elbow method to find the optimal number of clusters\n",
    "wcss = []\n",
    "for i in range(1, 11):\n",
    "    kmeans = KMeans(n_clusters=i, init='k-means++', random_state=42)\n",
    "    kmeans.fit(X)\n",
    "    # Handle potential warnings by appending NaN to wcss\n",
    "    wcss.append(np.nan if np.isinf(kmeans.inertia_) else kmeans.inertia_)\n",
    "\n",
    "# Plotting the elbow method\n",
    "plt.figure(figsize=(10, 5))\n",
    "sns.lineplot(range(1, 11), wcss, marker='o', color='red')\n",
    "plt.title('The Elbow Method')\n",
    "plt.xlabel('Number of clusters')\n",
    "plt.ylabel('WCSS')  # Within-Cluster Sum of Squares\n",
    "plt.show()\n",
    "\n",
    "\n",
    "print(sales_data.isna().sum())\n"
   ]
  },
  {
   "cell_type": "code",
   "execution_count": 22,
   "metadata": {},
   "outputs": [
    {
     "name": "stderr",
     "output_type": "stream",
     "text": [
      "c:\\ProgramData\\anaconda3\\Lib\\site-packages\\sklearn\\cluster\\_kmeans.py:1412: FutureWarning: The default value of `n_init` will change from 10 to 'auto' in 1.4. Set the value of `n_init` explicitly to suppress the warning\n",
      "  super()._check_params_vs_input(X, default_n_init=10)\n",
      "c:\\ProgramData\\anaconda3\\Lib\\site-packages\\sklearn\\cluster\\_kmeans.py:1412: FutureWarning: The default value of `n_init` will change from 10 to 'auto' in 1.4. Set the value of `n_init` explicitly to suppress the warning\n",
      "  super()._check_params_vs_input(X, default_n_init=10)\n",
      "c:\\ProgramData\\anaconda3\\Lib\\site-packages\\sklearn\\cluster\\_kmeans.py:1412: FutureWarning: The default value of `n_init` will change from 10 to 'auto' in 1.4. Set the value of `n_init` explicitly to suppress the warning\n",
      "  super()._check_params_vs_input(X, default_n_init=10)\n",
      "c:\\ProgramData\\anaconda3\\Lib\\site-packages\\sklearn\\cluster\\_kmeans.py:1412: FutureWarning: The default value of `n_init` will change from 10 to 'auto' in 1.4. Set the value of `n_init` explicitly to suppress the warning\n",
      "  super()._check_params_vs_input(X, default_n_init=10)\n",
      "c:\\ProgramData\\anaconda3\\Lib\\site-packages\\sklearn\\cluster\\_kmeans.py:1412: FutureWarning: The default value of `n_init` will change from 10 to 'auto' in 1.4. Set the value of `n_init` explicitly to suppress the warning\n",
      "  super()._check_params_vs_input(X, default_n_init=10)\n",
      "c:\\ProgramData\\anaconda3\\Lib\\site-packages\\sklearn\\cluster\\_kmeans.py:1412: FutureWarning: The default value of `n_init` will change from 10 to 'auto' in 1.4. Set the value of `n_init` explicitly to suppress the warning\n",
      "  super()._check_params_vs_input(X, default_n_init=10)\n",
      "c:\\ProgramData\\anaconda3\\Lib\\site-packages\\sklearn\\cluster\\_kmeans.py:1412: FutureWarning: The default value of `n_init` will change from 10 to 'auto' in 1.4. Set the value of `n_init` explicitly to suppress the warning\n",
      "  super()._check_params_vs_input(X, default_n_init=10)\n",
      "c:\\ProgramData\\anaconda3\\Lib\\site-packages\\sklearn\\cluster\\_kmeans.py:1412: FutureWarning: The default value of `n_init` will change from 10 to 'auto' in 1.4. Set the value of `n_init` explicitly to suppress the warning\n",
      "  super()._check_params_vs_input(X, default_n_init=10)\n",
      "c:\\ProgramData\\anaconda3\\Lib\\site-packages\\sklearn\\cluster\\_kmeans.py:1412: FutureWarning: The default value of `n_init` will change from 10 to 'auto' in 1.4. Set the value of `n_init` explicitly to suppress the warning\n",
      "  super()._check_params_vs_input(X, default_n_init=10)\n",
      "c:\\ProgramData\\anaconda3\\Lib\\site-packages\\sklearn\\cluster\\_kmeans.py:1412: FutureWarning: The default value of `n_init` will change from 10 to 'auto' in 1.4. Set the value of `n_init` explicitly to suppress the warning\n",
      "  super()._check_params_vs_input(X, default_n_init=10)\n"
     ]
    },
    {
     "data": {
      "image/png": "[encoded data removed]",
      "text/plain": [
       "<Figure size 1000x500 with 1 Axes>"
      ]
     },
     "metadata": {},
     "output_type": "display_data"
    }
   ],
   "source": [
    "\n",
    "# Selecting features for clustering\n",
    "# features_for_clustering = ['Age','Purchase_Amount', 'Brand_Affinity_Score']\n",
    "features_for_clustering = ['Age', 'Purchase_Amount', 'Average_Spending_Per_Purchase', 'Purchase_Frequency_Per_Month', 'Brand_Affinity_Score']\n",
    "\n",
    "# Scaling the features\n",
    "scaler = StandardScaler()\n",
    "X = scaler.fit_transform(sales_data[features_for_clustering])\n",
    "\n",
    "# Using the elbow method to find the optimal number of clusters\n",
    "wcss = []\n",
    "for i in range(1, 11):\n",
    "    kmeans = KMeans(n_clusters=i, init='k-means++', random_state=42)\n",
    "    kmeans.fit(X)\n",
    "    wcss.append(kmeans.inertia_)\n",
    "\n",
    "\n",
    "# Plotting the elbow method\n",
    "plt.figure(figsize=(10, 5))\n",
    "sns.lineplot(x=range(1, 11), y=wcss, marker='o', color='red')\n",
    "plt.title('The Elbow Method')\n",
    "plt.xlabel('Number of clusters')\n",
    "plt.ylabel('WCSS')  # Within-Cluster Sum of Squares\n",
    "plt.show()\n",
    "\n",
    "# sales_data.columns"
   ]
  },
  {
   "cell_type": "markdown",
   "metadata": {},
   "source": []
  },
  {
   "cell_type": "code",
   "execution_count": 25,
   "metadata": {},
   "outputs": [
    {
     "name": "stderr",
     "output_type": "stream",
     "text": [
      "c:\\ProgramData\\anaconda3\\Lib\\site-packages\\sklearn\\cluster\\_kmeans.py:1412: FutureWarning: The default value of `n_init` will change from 10 to 'auto' in 1.4. Set the value of `n_init` explicitly to suppress the warning\n",
      "  super()._check_params_vs_input(X, default_n_init=10)\n",
      "c:\\ProgramData\\anaconda3\\Lib\\site-packages\\sklearn\\cluster\\_kmeans.py:1412: FutureWarning: The default value of `n_init` will change from 10 to 'auto' in 1.4. Set the value of `n_init` explicitly to suppress the warning\n",
      "  super()._check_params_vs_input(X, default_n_init=10)\n",
      "c:\\ProgramData\\anaconda3\\Lib\\site-packages\\sklearn\\cluster\\_kmeans.py:1412: FutureWarning: The default value of `n_init` will change from 10 to 'auto' in 1.4. Set the value of `n_init` explicitly to suppress the warning\n",
      "  super()._check_params_vs_input(X, default_n_init=10)\n",
      "c:\\ProgramData\\anaconda3\\Lib\\site-packages\\sklearn\\cluster\\_kmeans.py:1412: FutureWarning: The default value of `n_init` will change from 10 to 'auto' in 1.4. Set the value of `n_init` explicitly to suppress the warning\n",
      "  super()._check_params_vs_input(X, default_n_init=10)\n",
      "c:\\ProgramData\\anaconda3\\Lib\\site-packages\\sklearn\\cluster\\_kmeans.py:1412: FutureWarning: The default value of `n_init` will change from 10 to 'auto' in 1.4. Set the value of `n_init` explicitly to suppress the warning\n",
      "  super()._check_params_vs_input(X, default_n_init=10)\n",
      "c:\\ProgramData\\anaconda3\\Lib\\site-packages\\sklearn\\cluster\\_kmeans.py:1412: FutureWarning: The default value of `n_init` will change from 10 to 'auto' in 1.4. Set the value of `n_init` explicitly to suppress the warning\n",
      "  super()._check_params_vs_input(X, default_n_init=10)\n",
      "c:\\ProgramData\\anaconda3\\Lib\\site-packages\\sklearn\\cluster\\_kmeans.py:1412: FutureWarning: The default value of `n_init` will change from 10 to 'auto' in 1.4. Set the value of `n_init` explicitly to suppress the warning\n",
      "  super()._check_params_vs_input(X, default_n_init=10)\n",
      "c:\\ProgramData\\anaconda3\\Lib\\site-packages\\sklearn\\cluster\\_kmeans.py:1412: FutureWarning: The default value of `n_init` will change from 10 to 'auto' in 1.4. Set the value of `n_init` explicitly to suppress the warning\n",
      "  super()._check_params_vs_input(X, default_n_init=10)\n",
      "c:\\ProgramData\\anaconda3\\Lib\\site-packages\\sklearn\\cluster\\_kmeans.py:1412: FutureWarning: The default value of `n_init` will change from 10 to 'auto' in 1.4. Set the value of `n_init` explicitly to suppress the warning\n",
      "  super()._check_params_vs_input(X, default_n_init=10)\n"
     ]
    },
    {
     "data": {
      "image/png": "[encoded data removed]",
      "text/plain": [
       "<Figure size 1000x500 with 1 Axes>"
      ]
     },
     "metadata": {},
     "output_type": "display_data"
    }
   ],
   "source": [
    "import pandas as pd\n",
    "import numpy as np\n",
    "import matplotlib.pyplot as plt\n",
    "from sklearn.cluster import KMeans\n",
    "from sklearn.metrics import silhouette_score\n",
    "from sklearn.preprocessing import StandardScaler\n",
    "\n",
    "# Assuming you have a DataFrame 'sales_data' with your data\n",
    "# ...\n",
    "\n",
    "# Selecting features for clustering\n",
    "features_for_clustering = ['Age', 'Purchase_Amount', 'Average_Spending_Per_Purchase', 'Purchase_Frequency_Per_Month', 'Brand_Affinity_Score']\n",
    "\n",
    "# Scaling the features\n",
    "scaler = StandardScaler()\n",
    "X = scaler.fit_transform(sales_data[features_for_clustering])\n",
    "\n",
    "# Range of k values to try\n",
    "k_values = range(2, 11)\n",
    "\n",
    "# List to store silhouette scores for each k\n",
    "silhouette_scores = []\n",
    "\n",
    "for k in k_values:\n",
    "    # Fit KMeans clustering\n",
    "    kmeans = KMeans(n_clusters=k, init='k-means++', random_state=42)\n",
    "    kmeans.fit(X)\n",
    "    \n",
    "    # Predict clusters\n",
    "    clusters = kmeans.predict(X)\n",
    "    \n",
    "    # Calculate silhouette score\n",
    "    silhouette_avg = silhouette_score(X, clusters)\n",
    "    silhouette_scores.append(silhouette_avg)\n",
    "\n",
    "# Plotting the silhouette scores\n",
    "plt.figure(figsize=(10, 5))\n",
    "plt.plot(k_values, silhouette_scores, marker='o', linestyle='-', color='blue')\n",
    "plt.title('Silhouette Analysis for Optimal Number of Clusters')\n",
    "plt.xlabel('Number of Clusters (k)')\n",
    "plt.ylabel('Silhouette Score')\n",
    "plt.show()\n"
   ]
  },
  {
   "cell_type": "markdown",
   "metadata": {},
   "source": []
  }
 ],
 "metadata": {
  "kernelspec": {
   "display_name": "Python 3 (ipykernel)",
   "language": "python",
   "name": "python3"
  },
  "language_info": {
   "codemirror_mode": {
    "name": "ipython",
    "version": 3
   },
   "file_extension": ".py",
   "mimetype": "text/x-python",
   "name": "python",
   "nbconvert_exporter": "python",
   "pygments_lexer": "ipython3",
   "version": "3.11.5"
  }
 },
 "nbformat": 4,
 "nbformat_minor": 2
}
